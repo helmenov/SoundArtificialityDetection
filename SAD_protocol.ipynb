{
 "cells": [
  {
   "cell_type": "code",
   "execution_count": 1,
   "metadata": {},
   "outputs": [],
   "source": [
    "import pandas as pd\n",
    "from importlib import resources\n",
    "import numpy as np\n",
    "import os\n",
    "from SoundArtificialityDetection.ASV2019protocol import PA_CM, PA_CM_Audio"
   ]
  },
  {
   "cell_type": "markdown",
   "metadata": {},
   "source": [
    "# Phisical Attack, Counter Measure \n",
    "\n"
   ]
  },
  {
   "cell_type": "markdown",
   "metadata": {},
   "source": [
    "## protocolごとのデータリストの読み込み"
   ]
  },
  {
   "cell_type": "code",
   "execution_count": 2,
   "metadata": {},
   "outputs": [],
   "source": [
    "#datadir = os.path.join(\"/Volumes\",\"labo_share5\",\"04_研究資料\", \"18_SoundSpoof\", \"ASVspoof2019\",\"PA\")\n",
    "datadir = os.path.join(\"../datadir\")\n",
    "\n",
    "train = PA_CM(datadir=datadir,protocol='train')\n",
    "eval = PA_CM(datadir=datadir,protocol='eval')\n",
    "dev = PA_CM(datadir=datadir,protocol='dev')\n"
   ]
  },
  {
   "cell_type": "markdown",
   "metadata": {},
   "source": [
    "## 条件によるファイルリスト獲得"
   ]
  },
  {
   "cell_type": "code",
   "execution_count": 3,
   "metadata": {},
   "outputs": [
    {
     "name": "stdout",
     "output_type": "stream",
     "text": [
      "==========\n",
      "protocol: <SoundArtificialityDetection.protocol.PA_CM object at 0x10cf5aa70>\n",
      "path: ../datadir/ASVspoof2019_PA_train/flac/PA_T_0053729.flac\n",
      "sfile: PA_T_0053729\n",
      "speaker_name: ['PA_0079']\n",
      "attack_name: ['CC']\n",
      "environment_name: ['ccc']\n",
      "key_name: ['spoof']\n",
      "==========\n"
     ]
    }
   ],
   "source": [
    "a = train.query_byIDname(key_name='spoof',attack_name='CC',environment_name='ccc') # 条件にあてはまるファイル(PA_CM_Audio形式)をNDArrayに出力\n",
    "a[1].show() "
   ]
  },
  {
   "cell_type": "markdown",
   "metadata": {},
   "source": [
    "## 音響信号ファイルの読み込み"
   ]
  },
  {
   "cell_type": "code",
   "execution_count": 187,
   "metadata": {},
   "outputs": [
    {
     "name": "stdout",
     "output_type": "stream",
     "text": [
      "libsndfile echoes \"Error : flac decoder lost sync.\". then use audioread\n"
     ]
    }
   ],
   "source": [
    "# ID nameによる音響信号ファイルのPA_CM_Audio objectの作成\n",
    "snd = PA_CM_Audio(train, speaker_name = 'PA_0079', environment_name = 'aaa', attack_name = 'CC', key_name = 'spoof')\n",
    "\n",
    "# 音響信号ファイルの名前によるPA_CM_Audio objectの作成\n",
    "snd2 = PA_CM_Audio(train, sfile='PA_T_0007085')\n",
    "\n",
    "# 実際に音響信号ファイルを読み込むときは，readメソッド．self.xにデータが入る．\n",
    "snd2.read()"
   ]
  },
  {
   "cell_type": "markdown",
   "metadata": {},
   "source": [
    "## PA_CM_Audio objectの情報を表示"
   ]
  },
  {
   "cell_type": "code",
   "execution_count": 177,
   "metadata": {},
   "outputs": [
    {
     "name": "stdout",
     "output_type": "stream",
     "text": [
      "==========\n",
      "path: ../datadir/ASVspoof2019_PA_train/flac/PA_T_0007085.flac\n",
      "sfile: PA_T_0007085\n",
      "speaker_name: ['PA_0079']\n",
      "attack_name: ['CC']\n",
      "environment_name: ['aaa']\n",
      "key_name: ['spoof']\n",
      "fs: 22050\n",
      "lenx: 66662\n",
      "chx: 1\n"
     ]
    }
   ],
   "source": [
    "snd2.show()"
   ]
  }
 ],
 "metadata": {
  "kernelspec": {
   "display_name": "Python 3.10.0 ('.venv': poetry)",
   "language": "python",
   "name": "python3"
  },
  "language_info": {
   "codemirror_mode": {
    "name": "ipython",
    "version": 3
   },
   "file_extension": ".py",
   "mimetype": "text/x-python",
   "name": "python",
   "nbconvert_exporter": "python",
   "pygments_lexer": "ipython3",
   "version": "3.10.0"
  },
  "orig_nbformat": 4,
  "vscode": {
   "interpreter": {
    "hash": "bb8541f60196843a9e8463de550af785e93584ba7db6af5fc29ca868ad878bdc"
   }
  }
 },
 "nbformat": 4,
 "nbformat_minor": 2
}
